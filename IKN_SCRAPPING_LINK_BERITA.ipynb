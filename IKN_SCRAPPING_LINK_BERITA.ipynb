{
  "nbformat": 4,
  "nbformat_minor": 0,
  "metadata": {
    "colab": {
      "provenance": []
    },
    "kernelspec": {
      "name": "python3",
      "display_name": "Python 3"
    },
    "language_info": {
      "name": "python"
    }
  },
  "cells": [
    {
      "cell_type": "code",
      "source": [
        "import requests\n",
        "from bs4 import BeautifulSoup\n",
        "from googlesearch import search"
      ],
      "metadata": {
        "id": "wDvD0RqWt7iX"
      },
      "execution_count": 5,
      "outputs": []
    },
    {
      "cell_type": "code",
      "source": [
        "def get_news_links(query, num=50):\n",
        "    \"\"\"Searches Google for the query and extracts news article links.\"\"\"\n",
        "    links = []\n",
        "    for url in search(query, num=num, lang='id'):\n",
        "        if 'news' in url or 'berita' in url:\n",
        "            links.append(url)\n",
        "    return links\n",
        "\n",
        "def filter_links_by_keywords(links, keywords):\n",
        "    \"\"\"Filters links that contain specific keywords in their HTML content.\"\"\"\n",
        "    filtered_links = []\n",
        "    for link in links:\n",
        "        try:\n",
        "            response = requests.get(link, timeout=5)\n",
        "            soup = BeautifulSoup(response.text, 'html.parser')\n",
        "            text = soup.get_text().lower()\n",
        "            if any(keyword.lower() in text for keyword in keywords):\n",
        "                filtered_links.append(link)\n",
        "        except Exception as e:\n",
        "            print(f\"Skipping {link} due to error: {e}\")\n",
        "    return filtered_links\n",
        "\n",
        "if __name__ == \"__main__\":\n",
        "    search_query = \"IKN OR 'Ibu Kota Nusantara' site:news\"\n",
        "    raw_links = get_news_links(search_query, num=50)\n",
        "    keywords = [\"IKN\", \"Ibu Kota Nusantara\"]\n",
        "    relevant_links = filter_links_by_keywords(raw_links, keywords)\n",
        "\n",
        "    print(\"Relevant news links:\")\n",
        "    for link in relevant_links:\n",
        "        print(link)"
      ],
      "metadata": {
        "colab": {
          "base_uri": "https://localhost:8080/"
        },
        "id": "1slwNAWVtl8T",
        "outputId": "c82cee0e-08ab-426a-fd1e-85a4f4f48095"
      },
      "execution_count": 7,
      "outputs": [
        {
          "output_type": "stream",
          "name": "stdout",
          "text": [
            "Skipping https://wartaterkini.news/masyarakat-antusias-pahami-kepindahan-ibu-kota-di-nusantara-fair-2024/ due to error: ('Connection aborted.', RemoteDisconnected('Remote end closed connection without response'))\n",
            "Skipping https://topmetro.news/tag/ikn-nusantara/ due to error: HTTPSConnectionPool(host='topmetro.news', port=443): Read timed out. (read timeout=5)\n",
            "Skipping https://wartaterkini.news/category/ibu-kota-nusantara/ due to error: ('Connection aborted.', ConnectionResetError(104, 'Connection reset by peer'))\n",
            "Skipping https://fakta.news/berita/terungkap-ibu-kota-baru-di-kalimantan-timur-bernama-nusantara due to error: HTTPSConnectionPool(host='fakta.news', port=443): Read timed out. (read timeout=5)\n",
            "Skipping https://www.kitakini.news/news/12327/kementerian-pupr-lelang-proyek-infrastruktur-publik-di-ibu-kota-nusantara-sekolah-pasar-dan-puskesmas/ due to error: HTTPSConnectionPool(host='www.kitakini.news', port=443): Read timed out. (read timeout=5)\n",
            "Skipping https://jejaknegeri.news/kalimantan-timur/sekda-kaltim-beberkan-persiapan-jelang-perayaan-hut-ke-79-ri-di-ikn/ due to error: HTTPSConnectionPool(host='jejaknegeri.news', port=443): Max retries exceeded with url: /kalimantan-timur/sekda-kaltim-beberkan-persiapan-jelang-perayaan-hut-ke-79-ri-di-ikn/ (Caused by SSLError(SSLCertVerificationError(1, \"[SSL: CERTIFICATE_VERIFY_FAILED] certificate verify failed: Hostname mismatch, certificate is not valid for 'jejaknegeri.news'. (_ssl.c:1016)\")))\n",
            "Skipping https://investigasi.news/nasional/pulau-taliabu/bupati-pulau-taliabu-hadiri-pertemuan-ikn-bersama-presiden-dan-517-kepala-daerah/ due to error: HTTPSConnectionPool(host='investigasi.news', port=443): Read timed out. (read timeout=5)\n",
            "Skipping https://fakta.news/berita/jadi-calon-kuat-kepala-otorita-ikn-nusantara-siapakah-bambang-susantono due to error: HTTPSConnectionPool(host='fakta.news', port=443): Read timed out. (read timeout=5)\n",
            "Skipping https://www.klausabontang.news/2023/11/07/kutim-jadi-superhub-ekonomi-ikn-nusantara-dengan-kek-maloy-ini-kata-bupati-ardiansyah/ due to error: HTTPSConnectionPool(host='www.klausabontang.news', port=443): Max retries exceeded with url: /2023/11/07/kutim-jadi-superhub-ekonomi-ikn-nusantara-dengan-kek-maloy-ini-kata-bupati-ardiansyah/ (Caused by NameResolutionError(\"<urllib3.connection.HTTPSConnection object at 0x7909804ed090>: Failed to resolve 'www.klausabontang.news' ([Errno -2] Name or service not known)\"))\n",
            "Skipping https://berita.news/2025/05/05/pemkot-makassar-alihkan-efisiensi-anggaran-untuk-masyarakat-pulau/ due to error: HTTPSConnectionPool(host='berita.news', port=443): Read timed out. (read timeout=5)\n",
            "Skipping https://www.malanesia.news/sah-ruu-ikn-jadi-uu-dan-nusantara-jadi-nama-ibu-kota-yang-baru/ due to error: HTTPSConnectionPool(host='www.malanesia.news', port=443): Read timed out. (read timeout=5)\n",
            "Skipping https://oppobaca.news/2024/08/19/perayaan-hari-kemerdekaan-indonesia-ke-79-di-ibu-kota-nusantara-ikn/ due to error: HTTPSConnectionPool(host='oppobaca.news', port=443): Max retries exceeded with url: /2024/08/19/perayaan-hari-kemerdekaan-indonesia-ke-79-di-ibu-kota-nusantara-ikn/ (Caused by SSLError(SSLCertVerificationError(1, '[SSL: CERTIFICATE_VERIFY_FAILED] certificate verify failed: certificate has expired (_ssl.c:1016)')))\n",
            "Relevant news links:\n",
            "https://www.licas.news/2024/10/17/jokowi-inaugurates-key-ikn-projects-showcasing-final-legacy-before-office-transition/\n",
            "https://harian.news/sekilas-pembangunan-ibu-kota-nusantara-ikn\n",
            "https://cakra.news/kapan-ikn-gantikan-dki-jakarta-jadi-ibu-kota-negara-ini-penjelasan-istana/\n",
            "https://line1.news/pengamat-masa-depan-ikn-gelap-gulita-usai-jokowi-lengser/\n",
            "https://medianta.news/13/08/2024/rasa-kagum-ombas-rasakan-suasana-ibu-kota-nusantara/\n",
            "https://rakyat.news/read/tag/ikn\n",
            "https://lingkar.news/tag/ikn/\n",
            "https://www.hyundai.news/eu/articles/press-releases/hmg-signs-mou-with-nusantara-capital-city-authority-to-establish-ecosystem-for-advanced-air-mobility.html\n",
            "https://www.suarapembaruan.news/tag/ikn\n",
            "https://line1.news/jokowi-uu-ikn-disetujui-93-persen-fraksi-di-dpr/\n",
            "https://kaltaraglobal.news/otorita-ikn-jalin-mitra-dengan-universitas-leiden-delft-erasmus/\n",
            "https://lingkar.news/artikel/20-fakta-menarik-tentang-ibu-kota-negara-ikn/\n",
            "https://harian.news/tag/ibu-kota-nusantara\n",
            "https://investigasi.news/daerah/pesisir-selatan/bupati-rusma-yul-anwar-hadiri-undangan-presiden-joko-widodo-di-ibu-kota-nusantara/\n",
            "https://indoraya.news/cetak-biru-kota-nusantara-jadi-acuan-pembangunan-ikn-masa-depan\n",
            "https://cakra.news/ikn-nusantara-hanya-untuk-elite-70-persen-wilayah-dikuasai-rumah-pejabat/\n",
            "https://topmetro.news/185346/presiden-groundbreaking-telkom-smart-office-di-ikn-akan-jadi-hub-telekomunikasi-nusantara/\n",
            "https://www.kitakini.news/news/10506/sayap-garuda-selesai-akhir-bulan-jokowi-segera-pindah-kantor-ke-ikn/\n",
            "https://kaltaragrande.news/pj-walikota-tarakan-hadiri-sosialisasi-pembangunan-ikn/\n",
            "https://identik.news/berikut-filosofi-5-logo-ikn-nusantara-masuk-daftar/\n",
            "https://indoraya.news/jokowi-pamerkan-pusat-komando-ikn-infrastruktur-utama-smart-city\n",
            "https://sulut.totabuan.news/minsel/bupati-minsel-fdw-hadiri-rakornas-perdana-ikn/\n",
            "https://waktu.news/perdana-hut-ri-tahun-79-2024-bakal-digelar-di-ibu-kota-nusantara/\n",
            "https://tfr.news/berita/id/adgi-ungkap-proses-finalis-identitas-visual-ikn\n",
            "https://identik.news/pilih-logo-ikn-nusantara-masyarakat-diajak-berpa/\n",
            "https://www.saudagar.news/jokowi-ajak-pengusaha-singapura-investasi-di-ikn/\n",
            "https://tfr.news/berita/id/tag/ikn+nusantara\n",
            "https://visi.news/nusantara-nama-baru-ibu-kota-negara-indonesia-di-kalimantan/\n",
            "https://semartara.news/pemerintah-luncurkan-logo-baru-ibu-kota-nusantara/\n",
            "https://blibraya.news/2023/04/12/jam-intelijen-amir-yanto-memimpin-rapat-pembahasan-permasalahan-dalam-pembangunan-ibu-kota-nusantara-ikn/\n",
            "https://t-s.news/r?u=aHR0cHM6Ly93d3cuY2hpbmFkYWlseS5jb20uY24vYS8yMDI0MDgvMTkvV1M2NmMyOWE0NmEzMTA2MDYzMGI5MjNiMTkuaHRtbA==.website.f5181f578b282e3b8d4cf07f83a8e39298231b94002ace47bacd4e96b3840156\n",
            "https://insan.news/tag/ibu-kota-nusantara/\n",
            "https://www.dhean.news/2022/03/bamsoet-tegaskan-pembangunan-ibu-kota.html\n",
            "https://eb.news/3aPBLORfTZOA\n",
            "https://www.mediautama.news/2024/09/27/ikn-kota-baru-yang-langsung-dibanjiri-hotel-mewah/\n",
            "https://www.okita.news/2024/08/buka-peluang-bisnis-di-ikn-sukses-bakal.html\n",
            "https://m.artikel.news/news/baca/40548/pemerintah-optimis-pembangunan-ikn-berjalan-sesuai-rencana\n",
            "https://www.matamedia.news/kementerian/konstruksi-selesai-wamen-pu-tinjau-tempat-pengolahan-sampah-modern-di-ikn\n",
            "https://www.mediautama.news/2024/08/14/di-ibu-kota-nusantara-presiden-jokowi-kukuhkan-76-anggota-paskibraka-tahun-2024/\n",
            "https://klise.news/panglima-tni-hadiri-pengarahan-presiden-ri-kepada-kepala-daerah-seluruh-indonesia-di-ikn/\n",
            "https://m.artikel.news/sulsel/baca/36171/pengusaha-parepare-tangkap-peluang-kembangkan-bisnis-dan-investasi-di-ikn\n",
            "https://kaltaragrande.news/akselerasi-bangun-infrastruktur-kelistrikan-ikn-pln-kolaborasi-dengan-kementerian-esdm/\n",
            "https://www.saudagar.news/topang-pembangunan-di-ikn-kemenparekraf-siapkan-desa-wisata/\n",
            "https://u-meta.news/news/2023/11/01/presiden-jokowi-akan-groundbreaking-bandara-ikn-dan-sejumlah-infrastruktur-lainnya\n",
            "https://mediabooster.news/presiden-jokowi-resmi-umumkan-logo-ikn-nusantara-begini-penampakannya/\n",
            "https://visi.news/pkb-anies-cak-imin-sejalan-soal-ikn-nusantara/\n",
            "https://waktu.news/pusat-latihan-sepak-bola-di-ibu-kota-nusantara-akan-hadir/amp/\n",
            "https://www.kabartujuhsatu.news/2022/02/nama-ikn-nusantara-itu-sudah-ada-juga.html\n",
            "https://suarajatim.news/kegelisahan-ikn-slamet/\n",
            "https://www.suarapembaruan.news/regional/53187531/gubernur-khofifah-lakukan-prosesi-mendhet-tirto-lan-siti-untuk-dibawa-ke-ikn-nusantara\n",
            "https://www.kabartujuhsatu.news/2022/01/benteng-jokowi-ibukota-negara-dipindah.html\n",
            "https://www.naker.news/tag/proyek-ibu-kota-nusantara\n",
            "https://semartara.news/ananta-wahana-waskita-karya-bumn-kontruksi-sarat-pengalaman-terlibat-dalam-pembangunan-ikn-nusantara/\n",
            "https://www.naker.news/tag/ASN-pindah-ke-Ibu-Kota-Nusantara\n"
          ]
        }
      ]
    }
  ]
}